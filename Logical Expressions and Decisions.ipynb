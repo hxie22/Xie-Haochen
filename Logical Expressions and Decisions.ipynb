{
 "cells": [
  {
   "cell_type": "markdown",
   "metadata": {},
   "source": [
    "<img src=\"https://photo.kidzworld.com/images/2020116/59693228-0d37-4bac-938f-c398c8262331/feature_happy-chinese-new-year-2020-year-rat-feat.jpg\" width = 250>\n",
    "\n",
    "### <center> <font color=\"blue\">Chapter 3: Logical Expressions and Decisions</font> </center>\n",
    "### <center> <font color=\"purple\">Dr Kamesam </font>"
   ]
  },
  {
   "cell_type": "markdown",
   "metadata": {},
   "source": [
    "\n",
    "### <font color=\"blue\">A boolean variable can take on only one of two possible values,  True  or False</font>\n",
    "\n",
    "**Note:** both True and False must be capitalized.   True and False are **reserved words**."
   ]
  },
  {
   "cell_type": "code",
   "execution_count": 2,
   "metadata": {},
   "outputs": [
    {
     "data": {
      "text/plain": [
       "bool"
      ]
     },
     "execution_count": 2,
     "metadata": {},
     "output_type": "execute_result"
    }
   ],
   "source": [
    "# Define a variable and store information on if a person is student or not. chek data type\n",
    "isStudent = True\n",
    "type(isStudent)"
   ]
  },
  {
   "cell_type": "markdown",
   "metadata": {},
   "source": [
    "### <font color=\"red\">You may not use True, False as Variable names</font>"
   ]
  },
  {
   "cell_type": "code",
   "execution_count": null,
   "metadata": {},
   "outputs": [],
   "source": [
    "True = 17"
   ]
  },
  {
   "cell_type": "markdown",
   "metadata": {},
   "source": [
    "### <font color=\"green\">So, we now know 4 datatypes:  int, float, str, bool</font>"
   ]
  },
  {
   "cell_type": "markdown",
   "metadata": {},
   "source": [
    "###  <font color=\"blue\">Relational Operators:   >, >=, <, <=, ==  (equal to) , !=  (not equal to)</font>\n",
    "\n",
    "Logical expressions are used as part of an **IF** statement"
   ]
  },
  {
   "cell_type": "code",
   "execution_count": 3,
   "metadata": {},
   "outputs": [
    {
     "data": {
      "text/plain": [
       "True"
      ]
     },
     "execution_count": 3,
     "metadata": {},
     "output_type": "execute_result"
    }
   ],
   "source": [
    "a, b = 22, 13          # both a and b are assigned values in a single statement \n",
    "\n",
    "a > b                   # is a greater than b? this is a Logical expression"
   ]
  },
  {
   "cell_type": "code",
   "execution_count": null,
   "metadata": {},
   "outputs": [],
   "source": [
    "# you may compare a variable with another variable or a constant\n",
    "x = 20\n",
    "y = 27\n",
    "\n",
    "x > 10.5                      #  Logical expression: is x greater than or equal to 72.5 (a constant) ?"
   ]
  },
  {
   "cell_type": "markdown",
   "metadata": {},
   "source": [
    "### == (is equal to) operator   "
   ]
  },
  {
   "cell_type": "code",
   "execution_count": 4,
   "metadata": {},
   "outputs": [
    {
     "data": {
      "text/plain": [
       "False"
      ]
     },
     "execution_count": 4,
     "metadata": {},
     "output_type": "execute_result"
    }
   ],
   "source": [
    "c =  5\n",
    "d = -5\n",
    "\n",
    "# is c equal to d ?\n",
    "c == d                # note the difference  a = b vs. a == b     "
   ]
  },
  {
   "cell_type": "markdown",
   "metadata": {},
   "source": [
    "### != (not equal to) operator   "
   ]
  },
  {
   "cell_type": "code",
   "execution_count": 5,
   "metadata": {},
   "outputs": [
    {
     "name": "stdout",
     "output_type": "stream",
     "text": [
      "False\n",
      "True\n"
     ]
    }
   ],
   "source": [
    "c =  5\n",
    "d = -5\n",
    "# is c NOT EQUAL to d ?  \n",
    "print(c == d )\n",
    "print(c != d)"
   ]
  },
  {
   "cell_type": "code",
   "execution_count": 6,
   "metadata": {},
   "outputs": [
    {
     "data": {
      "text/plain": [
       "True"
      ]
     },
     "execution_count": 6,
     "metadata": {},
     "output_type": "execute_result"
    }
   ],
   "source": [
    "c, d =  5, -5\n",
    "# is a equal to the absolute value of b ? \n",
    "c == abs(d)       "
   ]
  },
  {
   "cell_type": "markdown",
   "metadata": {},
   "source": [
    "### you can save the value of a logical expression in a variable"
   ]
  },
  {
   "cell_type": "code",
   "execution_count": 7,
   "metadata": {},
   "outputs": [
    {
     "data": {
      "text/plain": [
       "False"
      ]
     },
     "execution_count": 7,
     "metadata": {},
     "output_type": "execute_result"
    }
   ],
   "source": [
    "a, b = 22, 13  \n",
    "\n",
    "save = a == b     # save is a boolean variable\n",
    "\n",
    "save         # what is the data type of save ?"
   ]
  },
  {
   "cell_type": "markdown",
   "metadata": {},
   "source": [
    "### Compund Logical Expressions with logical operators  <font color=\"green\"> and, or, not</font>"
   ]
  },
  {
   "cell_type": "code",
   "execution_count": 8,
   "metadata": {},
   "outputs": [
    {
     "data": {
      "text/plain": [
       "True"
      ]
     },
     "execution_count": 8,
     "metadata": {},
     "output_type": "execute_result"
    }
   ],
   "source": [
    "a = 22\n",
    "b = 13\n",
    "c = -5\n",
    "\n",
    "(a > b) and (c < b)                    # is a greater than b  and also c < b"
   ]
  },
  {
   "cell_type": "code",
   "execution_count": 9,
   "metadata": {},
   "outputs": [
    {
     "data": {
      "text/plain": [
       "True"
      ]
     },
     "execution_count": 9,
     "metadata": {},
     "output_type": "execute_result"
    }
   ],
   "source": [
    "a = 22\n",
    "b = 13\n",
    "c = -5\n",
    "name = \"alice\"\n",
    "\n",
    "(name == \"robert\" ) or  (a > b)                  # name == \"Robert\"  or (a < b)"
   ]
  },
  {
   "cell_type": "code",
   "execution_count": 10,
   "metadata": {},
   "outputs": [
    {
     "data": {
      "text/plain": [
       "False"
      ]
     },
     "execution_count": 10,
     "metadata": {},
     "output_type": "execute_result"
    }
   ],
   "source": [
    "# use of NOT operator. check if a is not less than b\n",
    "\n",
    "not a > b"
   ]
  },
  {
   "cell_type": "markdown",
   "metadata": {},
   "source": [
    "### Conditional Execution and the IF statement"
   ]
  },
  {
   "cell_type": "markdown",
   "metadata": {},
   "source": [
    "### The IF statement may or may not have an ELSE clause"
   ]
  },
  {
   "cell_type": "code",
   "execution_count": 11,
   "metadata": {},
   "outputs": [
    {
     "name": "stdout",
     "output_type": "stream",
     "text": [
      "type your score:  91\n",
      "your score =  91.0\n"
     ]
    }
   ],
   "source": [
    "# Example of an IF statement without any else statment\n",
    "# check if a student got a A grade. Inform the student\n",
    "Ascore = 93\n",
    "score = float (input(\"type your score:  \"))\n",
    "if score >= 93:\n",
    "    print(\"congrats\")\n",
    "    print(\"you get an A grade\")\n",
    "print(\"your score = \",score)"
   ]
  },
  {
   "cell_type": "markdown",
   "metadata": {},
   "source": [
    "### IF statement with an ELSE clause"
   ]
  },
  {
   "cell_type": "code",
   "execution_count": 12,
   "metadata": {},
   "outputs": [
    {
     "name": "stdout",
     "output_type": "stream",
     "text": [
      "type your score:  92\n",
      "better luck next time\n",
      "you did not get A\n",
      "your score =  92.0\n"
     ]
    }
   ],
   "source": [
    "# Example of an IF statement with an else clause\n",
    "Ascore = 93\n",
    "score = float (input(\"type your score:  \"))\n",
    "if score >= Ascore:\n",
    "    print(\"\\nCongrats!\")\n",
    "    print(\"you got A\")\n",
    "else:\n",
    "    print(\"better luck next time\")\n",
    "    print(\"you did not get A\")\n",
    "print(\"your score = \", score)"
   ]
  },
  {
   "cell_type": "code",
   "execution_count": 13,
   "metadata": {},
   "outputs": [
    {
     "name": "stdout",
     "output_type": "stream",
     "text": [
      "Alice is a student\n"
     ]
    }
   ],
   "source": [
    "name = 'Alice'\n",
    "isStudent = True           # is_student is a boolean variable\n",
    "\n",
    "# it is not necessary to say is_student == True\n",
    "if isStudent:\n",
    "    print(name, \"is a student\")\n",
    "else:\n",
    "    print(name, \"is not a student\")"
   ]
  },
  {
   "cell_type": "markdown",
   "metadata": {},
   "source": [
    "### IF statement for input validation."
   ]
  },
  {
   "cell_type": "code",
   "execution_count": null,
   "metadata": {},
   "outputs": [],
   "source": [
    "# ask the user to input a positive integer, store the value in num\n",
    "number = int(input(\"type a positive integer:  \"))\n",
    "\n",
    "if number <= 0:\n",
    "    print(\"input is not valid. Must be a positive integer\")\n",
    "else:\n",
    "    print(\"Input is Valid. Thank You\")\n",
    "    # rest of the calculations\n",
    "print(\"end of program\")"
   ]
  },
  {
   "cell_type": "markdown",
   "metadata": {},
   "source": [
    "### A sales person has a sales quota. A bonus is paid if quota is achieved. \n",
    "1. you are given the base pay, bonus amount, as well as the sales quota to be met\n",
    "2. ask the sales person to input the actutal sales achieved.\n",
    "3. check to see if quota is reached.\n",
    "4. add bonus to pay (if warranted) to calculate total pay.\n",
    "5. Display the total pay"
   ]
  },
  {
   "cell_type": "code",
   "execution_count": 14,
   "metadata": {},
   "outputs": [
    {
     "name": "stdout",
     "output_type": "stream",
     "text": [
      "type actual sales achieved 650000\n",
      "Congrats, you have earned a bonus!!\n",
      "Total Pay =  57200.0\n"
     ]
    }
   ],
   "source": [
    "base_pay       =  52000.00\n",
    "bonus          =   5200.00\n",
    "sales_quota    = 630000.00 \n",
    "\n",
    "actual_sales = float(input(\"type actual sales achieved \"))\n",
    "\n",
    "if actual_sales >= sales_quota:\n",
    "    print(\"Congrats, you have earned a bonus!!\")\n",
    "    total_pay = base_pay + bonus\n",
    "else:\n",
    "    total_pay = base_pay\n",
    "print(\"Total Pay = \", total_pay)"
   ]
  },
  {
   "cell_type": "markdown",
   "metadata": {},
   "source": [
    "### <font color=\"blue\">if-elif-else   statement</font>"
   ]
  },
  {
   "cell_type": "code",
   "execution_count": null,
   "metadata": {},
   "outputs": [],
   "source": [
    "# Example of If-elif-else statement\n",
    "Ascore = 93\n",
    "pass_score = 70\n",
    "score = int (input(\"type your score:  \"))\n",
    "if score >= Ascore:\n",
    "    print(\"\\nCongrats!\")\n",
    "    print(\"you got A\")\n",
    "elif score >= pass_score:\n",
    "    print(\"you passed the class\")  \n",
    "else:\n",
    "    print(\"unfortunately you did not pass\")\n",
    "print(\"your score = \", score)\n"
   ]
  },
  {
   "cell_type": "code",
   "execution_count": 19,
   "metadata": {},
   "outputs": [
    {
     "name": "stdout",
     "output_type": "stream",
     "text": [
      "type your score:  65\n",
      "try again next semester\n",
      "grade =  F\n",
      "end of program\n"
     ]
    }
   ],
   "source": [
    "# In a if-elif-else  block, there can be any number of elif statements\n",
    "# the example requires more than one elif statements\n",
    "Ascore = 93\n",
    "Bscore = 84\n",
    "pass_score = 70\n",
    "score = float (input(\"type your score:  \"))\n",
    "if score >= Ascore:\n",
    "    your_grade= \"A\"\n",
    "elif score >=Bscore:\n",
    "    your_grade= \"B\"\n",
    "elif score>= pass_score:\n",
    "    your_grade= \"P\"\n",
    "else:\n",
    "    print(\"try again next semester\")\n",
    "    your_grade= \"F\"\n",
    "print(\"grade = \", your_grade)\n",
    "print(\"end of program\")"
   ]
  },
  {
   "cell_type": "markdown",
   "metadata": {},
   "source": [
    "### Comparing Strings.  Sort order is determined this way"
   ]
  },
  {
   "cell_type": "code",
   "execution_count": 20,
   "metadata": {},
   "outputs": [
    {
     "data": {
      "text/plain": [
       "True"
      ]
     },
     "execution_count": 20,
     "metadata": {},
     "output_type": "execute_result"
    }
   ],
   "source": [
    "name1 = \"Mark\"\n",
    "name2 = \"Mary\"\n",
    "# compare the two names. Which is bigger? \n",
    "name1 <= name2"
   ]
  },
  {
   "cell_type": "code",
   "execution_count": null,
   "metadata": {},
   "outputs": [],
   "source": []
  }
 ],
 "metadata": {
  "kernelspec": {
   "display_name": "Python 3",
   "language": "python",
   "name": "python3"
  },
  "language_info": {
   "codemirror_mode": {
    "name": "ipython",
    "version": 3
   },
   "file_extension": ".py",
   "mimetype": "text/x-python",
   "name": "python",
   "nbconvert_exporter": "python",
   "pygments_lexer": "ipython3",
   "version": "3.7.4"
  }
 },
 "nbformat": 4,
 "nbformat_minor": 2
}
